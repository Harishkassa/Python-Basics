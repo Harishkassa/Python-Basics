{
  "nbformat": 4,
  "nbformat_minor": 0,
  "metadata": {
    "colab": {
      "provenance": []
    },
    "kernelspec": {
      "name": "python3",
      "display_name": "Python 3"
    },
    "language_info": {
      "name": "python"
    }
  },
  "cells": [
    {
      "cell_type": "markdown",
      "source": [],
      "metadata": {
        "id": "FjuznGygyO1D"
      }
    },
    {
      "cell_type": "markdown",
      "source": [
        "1. What is Python, and why is it popular\n"
      ],
      "metadata": {
        "id": "6hSqyJLeyQOM"
      }
    },
    {
      "cell_type": "markdown",
      "source": [
        "-> Python is a High level language and interpreated language for performing tasks and solving real world examples and used in web development, ai, ml, data analystics and data science, automation,etc.\n",
        "Python is verstile language it is used in so many field which i mentioned in above so that's why python is so popular language."
      ],
      "metadata": {
        "id": "hf5a63O3yf5R"
      }
    },
    {
      "cell_type": "markdown",
      "source": [
        "2. What is an interpreter in Python"
      ],
      "metadata": {
        "id": "DVTh495pzd-v"
      }
    },
    {
      "cell_type": "markdown",
      "source": [
        "-> Interpreter is executes the code line by line so therefore it gives us errors one by one which is differ from compiler\n"
      ],
      "metadata": {
        "id": "W2xdjJeozbD-"
      }
    },
    {
      "cell_type": "markdown",
      "source": [
        "3. What are pre-defined keywords in Python\n"
      ],
      "metadata": {
        "id": "_sQrVDbxz_Jn"
      }
    },
    {
      "cell_type": "markdown",
      "source": [
        "-> Predefined Keywords is preserv keyword which is built in variables used for only python not is buiild for user's specific tasks. Each Keyword has predefined meaning and it is used in coding."
      ],
      "metadata": {
        "id": "XW3jucaZ0mk-"
      }
    },
    {
      "cell_type": "markdown",
      "source": [
        "4. Can keywords be used as variable names\n"
      ],
      "metadata": {
        "id": "_2c7S1G8023P"
      }
    },
    {
      "cell_type": "markdown",
      "source": [
        "-> No, It has specific meaning and use for the python programming"
      ],
      "metadata": {
        "id": "hwXrZE0O06NU"
      }
    },
    {
      "cell_type": "markdown",
      "source": [
        " 5. What is mutability in Python"
      ],
      "metadata": {
        "id": "AuLGCL6t1Jcd"
      }
    },
    {
      "cell_type": "markdown",
      "source": [
        "-> Mutability means a data structure able to changeble when user wants to change its data. like list, set and dict is mutable."
      ],
      "metadata": {
        "id": "YyIvIutQ1MsG"
      }
    },
    {
      "cell_type": "markdown",
      "source": [
        "6. Why are lists mutable, but tuples are immutable"
      ],
      "metadata": {
        "id": "O30Cwuhh1Myi"
      }
    },
    {
      "cell_type": "markdown",
      "source": [
        "-> Lists are mutable for flexibility while tuples are immutable for safety and speed"
      ],
      "metadata": {
        "id": "gSesTMPb1M1G"
      }
    },
    {
      "cell_type": "markdown",
      "source": [
        "7. What is the difference between “==” and “is” operators in Python"
      ],
      "metadata": {
        "id": "g7kP5hWy1M3x"
      }
    },
    {
      "cell_type": "markdown",
      "source": [
        "-> \"==\" means check whether two varible's value is equal to or not?\n",
        "when \"is\" is check two variables is point to the same object (memory) or not?"
      ],
      "metadata": {
        "id": "GyZDkU2N1M6k"
      }
    },
    {
      "cell_type": "markdown",
      "source": [
        "8. What are logical operators in Python\n",
        "\n"
      ],
      "metadata": {
        "id": "YqtZOgb71M90"
      }
    },
    {
      "cell_type": "markdown",
      "source": [
        "-> Logical operator is combine two boolean values and return only one single result. which is used for control the decision making in programs"
      ],
      "metadata": {
        "id": "oupL235f1NBk"
      }
    },
    {
      "cell_type": "markdown",
      "source": [
        "9. What is type casting in Python"
      ],
      "metadata": {
        "id": "64VVA_Hk3S7e"
      }
    },
    {
      "cell_type": "markdown",
      "source": [
        "-> Typecasting means Converting a value from one data type to another data type for example int to str float to int or vice versa, etc\n"
      ],
      "metadata": {
        "id": "u4kNL84J3S9_"
      }
    },
    {
      "cell_type": "markdown",
      "source": [
        "10. What is the difference between implicit and explicit type casting"
      ],
      "metadata": {
        "id": "z9T-weFg3TAn"
      }
    },
    {
      "cell_type": "markdown",
      "source": [
        "-> Implicit type casting means when at particular condition python automatically converts the data type into another type\n",
        "\n",
        "for example\n",
        "x = 2\n",
        "y = 0.5\n",
        "print(type(x + y)) #float\n",
        "\n",
        "\n",
        "explicity type casting means when human intervetion is neccessary to convert the datatype from one to another."
      ],
      "metadata": {
        "id": "fGt7r9YO3TC4"
      }
    },
    {
      "cell_type": "markdown",
      "source": [
        "11. What is the purpose of conditional statements in Python"
      ],
      "metadata": {
        "id": "luvSzFcs3TGp"
      }
    },
    {
      "cell_type": "markdown",
      "source": [
        "-> Conditional statement is used for defining decisions for a particular case for example:\n",
        "\n",
        "if a person age is 19\n",
        "so\n",
        "if age > 18: means its is adult otherwise teenager\n",
        "so this conditional statement helps to make decision based on conditions and control the program flow"
      ],
      "metadata": {
        "id": "ZpHeZMzh49ii"
      }
    },
    {
      "cell_type": "markdown",
      "source": [
        "12.  How does the elif statement work"
      ],
      "metadata": {
        "id": "GIyFX4JH49lI"
      }
    },
    {
      "cell_type": "markdown",
      "source": [
        "-> The elif statement evaluates a new condition when the if condition fails, enabling the program to choose among several options."
      ],
      "metadata": {
        "id": "IgPIv_gS49n-"
      }
    },
    {
      "cell_type": "markdown",
      "source": [
        "13. What is the difference between for and while loops"
      ],
      "metadata": {
        "id": "D51v5Foc49q3"
      }
    },
    {
      "cell_type": "markdown",
      "source": [
        "A for loop is used when you know how many times to repeat, while a while loop runs as long as a condition stays true without a fixed count."
      ],
      "metadata": {
        "id": "z0fRicRR49uw"
      }
    },
    {
      "cell_type": "markdown",
      "source": [
        "14. Describe a scenario where a while loop is more suitable than a for loop."
      ],
      "metadata": {
        "id": "AtK9AqR165Im"
      }
    },
    {
      "cell_type": "markdown",
      "source": [
        "-> suppose we need to do same tasks in repeating mode using while loop but we don't have an idea about how many times to repeat the loop for that we use condition based on this condition our tasks is executed until confition get false"
      ],
      "metadata": {
        "id": "xlL0DBXg65Oi"
      }
    },
    {
      "cell_type": "markdown",
      "source": [],
      "metadata": {
        "id": "i-NZgKat8CZN"
      }
    },
    {
      "cell_type": "markdown",
      "source": [
        "1. Write a Python program to print \"Hello, World!\n",
        "\n"
      ],
      "metadata": {
        "id": "RpHzm1Qu65Q6"
      }
    },
    {
      "cell_type": "code",
      "source": [
        "print(\"Hello, World!\")"
      ],
      "metadata": {
        "colab": {
          "base_uri": "https://localhost:8080/"
        },
        "id": "B3pdHjRs7ow2",
        "outputId": "a632f41b-a41f-4aa0-f5d1-eeba55525f75"
      },
      "execution_count": null,
      "outputs": [
        {
          "output_type": "stream",
          "name": "stdout",
          "text": [
            "Hello, World!\n"
          ]
        }
      ]
    },
    {
      "cell_type": "markdown",
      "source": [
        "2. Write a Python program that displays your name and age"
      ],
      "metadata": {
        "id": "spElLKUn71uP"
      }
    },
    {
      "cell_type": "code",
      "source": [
        "name = input(\"Enter your name: \")\n",
        "age = int(input(\"Enter your age: \"))\n",
        "print(f\"My name is {name} and my age is {age}\")"
      ],
      "metadata": {
        "colab": {
          "base_uri": "https://localhost:8080/"
        },
        "id": "SUO0X9eq73DT",
        "outputId": "c5496fc9-f6fc-4627-a57d-1312534b06d8"
      },
      "execution_count": null,
      "outputs": [
        {
          "output_type": "stream",
          "name": "stdout",
          "text": [
            "Enter your name: Harish\n",
            "Enter your age: 21\n",
            "My name is Harish and my age is 21\n"
          ]
        }
      ]
    },
    {
      "cell_type": "markdown",
      "source": [
        "3. Write code to print all the pre-defined keywords in Python using the keyword library."
      ],
      "metadata": {
        "id": "3NI3M-JN8Df9"
      }
    },
    {
      "cell_type": "code",
      "source": [
        "import keyword\n",
        "\n",
        "print(\"Python Keywords:\")\n",
        "print(keyword.kwlist)"
      ],
      "metadata": {
        "colab": {
          "base_uri": "https://localhost:8080/"
        },
        "id": "_57IWIVk7q_A",
        "outputId": "beea5b4d-3a7d-4150-ebe4-d54a1ccbe829"
      },
      "execution_count": null,
      "outputs": [
        {
          "output_type": "stream",
          "name": "stdout",
          "text": [
            "Python Keywords:\n",
            "['False', 'None', 'True', 'and', 'as', 'assert', 'async', 'await', 'break', 'class', 'continue', 'def', 'del', 'elif', 'else', 'except', 'finally', 'for', 'from', 'global', 'if', 'import', 'in', 'is', 'lambda', 'nonlocal', 'not', 'or', 'pass', 'raise', 'return', 'try', 'while', 'with', 'yield']\n"
          ]
        }
      ]
    },
    {
      "cell_type": "markdown",
      "source": [
        "4. Write a program that checks if a given word is a Python keyword.\n"
      ],
      "metadata": {
        "id": "LZOou2eC8syt"
      }
    },
    {
      "cell_type": "code",
      "source": [
        "import keyword\n",
        "\n",
        "word = input(\"Enter a word: \")\n",
        "\n",
        "if keyword.iskeyword(word):\n",
        "    print(f\"{word} is a Python keyword.\")\n",
        "else:\n",
        "    print(f\"{word} is not a Python keyword.\")"
      ],
      "metadata": {
        "colab": {
          "base_uri": "https://localhost:8080/"
        },
        "id": "PZjHlimL8uLV",
        "outputId": "2e2a6576-5a28-4bcd-da10-4c5bebf26023"
      },
      "execution_count": 5,
      "outputs": [
        {
          "output_type": "stream",
          "name": "stdout",
          "text": [
            "Enter a word: tuple\n",
            "tuple is not a Python keyword.\n"
          ]
        }
      ]
    },
    {
      "cell_type": "markdown",
      "source": [
        "5. Create a list and tuple in Python, and demonstrate how attempting to change an element works differently\n",
        "for each."
      ],
      "metadata": {
        "id": "m5P_TX0J9YeD"
      }
    },
    {
      "cell_type": "code",
      "source": [
        "list1 = [1,2,4]\n",
        "list1[1] = 4\n",
        "print(list1) # list is mutable"
      ],
      "metadata": {
        "colab": {
          "base_uri": "https://localhost:8080/"
        },
        "id": "wTZr9xby9MJt",
        "outputId": "4370f773-21ba-4e79-f628-08db00e0c23d"
      },
      "execution_count": 4,
      "outputs": [
        {
          "output_type": "stream",
          "name": "stdout",
          "text": [
            "[1, 4, 4]\n"
          ]
        }
      ]
    },
    {
      "cell_type": "code",
      "source": [
        "tuple1 = (1,24,8,9,12)\n",
        "tuple1[1] = 4\n",
        "print(tuple1) # This gives error because tuple is immutable"
      ],
      "metadata": {
        "colab": {
          "base_uri": "https://localhost:8080/",
          "height": 176
        },
        "id": "fanOh7fX9oW6",
        "outputId": "daaeadb7-cb8e-4d05-d497-d66cf1c0ebc9"
      },
      "execution_count": 7,
      "outputs": [
        {
          "output_type": "error",
          "ename": "TypeError",
          "evalue": "'tuple' object does not support item assignment",
          "traceback": [
            "\u001b[0;31m---------------------------------------------------------------------------\u001b[0m",
            "\u001b[0;31mTypeError\u001b[0m                                 Traceback (most recent call last)",
            "\u001b[0;32m<ipython-input-7-2424029009>\u001b[0m in \u001b[0;36m<cell line: 0>\u001b[0;34m()\u001b[0m\n\u001b[1;32m      1\u001b[0m \u001b[0mtuple1\u001b[0m \u001b[0;34m=\u001b[0m \u001b[0;34m(\u001b[0m\u001b[0;36m1\u001b[0m\u001b[0;34m,\u001b[0m\u001b[0;36m24\u001b[0m\u001b[0;34m,\u001b[0m\u001b[0;36m8\u001b[0m\u001b[0;34m,\u001b[0m\u001b[0;36m9\u001b[0m\u001b[0;34m,\u001b[0m\u001b[0;36m12\u001b[0m\u001b[0;34m)\u001b[0m\u001b[0;34m\u001b[0m\u001b[0;34m\u001b[0m\u001b[0m\n\u001b[0;32m----> 2\u001b[0;31m \u001b[0mtuple1\u001b[0m\u001b[0;34m[\u001b[0m\u001b[0;36m1\u001b[0m\u001b[0;34m]\u001b[0m \u001b[0;34m=\u001b[0m \u001b[0;36m4\u001b[0m\u001b[0;34m\u001b[0m\u001b[0;34m\u001b[0m\u001b[0m\n\u001b[0m\u001b[1;32m      3\u001b[0m \u001b[0mprint\u001b[0m\u001b[0;34m(\u001b[0m\u001b[0mtuple1\u001b[0m\u001b[0;34m)\u001b[0m\u001b[0;34m\u001b[0m\u001b[0;34m\u001b[0m\u001b[0m\n",
            "\u001b[0;31mTypeError\u001b[0m: 'tuple' object does not support item assignment"
          ]
        }
      ]
    },
    {
      "cell_type": "markdown",
      "source": [
        "6. Write a function to demonstrate the behavior of mutable and immutable arguments."
      ],
      "metadata": {
        "id": "qjS8eu1v-wec"
      }
    },
    {
      "cell_type": "code",
      "source": [
        "def modify_args(a, b):\n",
        "    a += 1       # int (immutable)\n",
        "    b.append(4)  # list (mutable)\n",
        "\n",
        "x = 10\n",
        "y = [1, 2, 3]\n",
        "\n",
        "modify_args(x, y)\n",
        "\n",
        "print(\"x (immutable):\", x)\n",
        "print(\"y (mutable):\", y)"
      ],
      "metadata": {
        "colab": {
          "base_uri": "https://localhost:8080/"
        },
        "id": "xEIm6DE195_W",
        "outputId": "058f43c4-f1b8-4631-d682-e7b7c07978ad"
      },
      "execution_count": 28,
      "outputs": [
        {
          "output_type": "stream",
          "name": "stdout",
          "text": [
            "x (immutable): 10\n",
            "y (mutable): [1, 2, 3, 4]\n"
          ]
        }
      ]
    },
    {
      "cell_type": "markdown",
      "source": [
        "7. Write a program that performs basic arithmetic operations on two user-input numbers"
      ],
      "metadata": {
        "id": "8i2jFccK_KqK"
      }
    },
    {
      "cell_type": "code",
      "source": [
        "a = float(input(\"Enter first number: \"))\n",
        "b = float(input(\"Enter second number: \"))\n",
        "\n",
        "print(\"Addition:\", a + b)\n",
        "print(\"Subtraction:\", a - b)\n",
        "print(\"Multiplication:\", a * b)\n",
        "print(\"Division:\", a / b if b != 0 else \"Cannot divide by zero\")"
      ],
      "metadata": {
        "colab": {
          "base_uri": "https://localhost:8080/"
        },
        "id": "CQoL9GfO-eEv",
        "outputId": "4bca3a5e-4766-4eaa-d97d-ef9eb1eda500"
      },
      "execution_count": 12,
      "outputs": [
        {
          "output_type": "stream",
          "name": "stdout",
          "text": [
            "Enter first number: 5.5\n",
            "Enter second number: 51\n",
            "Addition: 56.5\n",
            "Subtraction: -45.5\n",
            "Multiplication: 280.5\n",
            "Division: 0.10784313725490197\n"
          ]
        }
      ]
    },
    {
      "cell_type": "markdown",
      "source": [
        "8. Write a program to demonstrate the use of logical operators.\n",
        "4"
      ],
      "metadata": {
        "id": "xohXwFGC_M8q"
      }
    },
    {
      "cell_type": "code",
      "source": [
        "x = True\n",
        "y = False\n",
        "\n",
        "print(\"x and y:\", x and y)\n",
        "print(\"x or y:\", x or y)\n",
        "print(\"not x:\", not y)"
      ],
      "metadata": {
        "colab": {
          "base_uri": "https://localhost:8080/"
        },
        "id": "ssGaEcIk_asn",
        "outputId": "c81534a3-103a-4d5d-c559-a91f4a44c8b3"
      },
      "execution_count": 9,
      "outputs": [
        {
          "output_type": "stream",
          "name": "stdout",
          "text": [
            "x and y: False\n",
            "x or y: True\n",
            "not x: True\n"
          ]
        }
      ]
    },
    {
      "cell_type": "markdown",
      "source": [
        "9. Write a Python program to convert user input from string to integer, float, and boolean types."
      ],
      "metadata": {
        "id": "7mH30HRe_X8T"
      }
    },
    {
      "cell_type": "code",
      "source": [
        "user_input = input(\"Enter a value: \")\n",
        "\n",
        "# Convert to integer\n",
        "try:\n",
        "    int_value = int(user_input)\n",
        "    print(\"Integer:\", int_value)\n",
        "except ValueError:\n",
        "    print(\"Cannot convert to integer\")\n",
        "\n",
        "# Convert to float\n",
        "try:\n",
        "    float_value = float(user_input)\n",
        "    print(\"Float:\", float_value)\n",
        "except ValueError:\n",
        "    print(\"Cannot convert to float\")\n",
        "\n",
        "# Convert to boolean\n",
        "bool_value = user_input.lower() in [\"true\", \"1\", \"yes\"]\n",
        "print(\"Boolean:\", bool_value)"
      ],
      "metadata": {
        "colab": {
          "base_uri": "https://localhost:8080/"
        },
        "id": "Fvn2_19L_tcm",
        "outputId": "df409e6e-73c6-40f2-fd41-34bbc0148781"
      },
      "execution_count": 27,
      "outputs": [
        {
          "output_type": "stream",
          "name": "stdout",
          "text": [
            "Enter a value: 9\n",
            "Integer: 9\n",
            "Float: 9.0\n",
            "Boolean: False\n"
          ]
        }
      ]
    },
    {
      "cell_type": "markdown",
      "source": [
        "10. Write code to demonstrate type casting with list elements."
      ],
      "metadata": {
        "id": "jX9Qme76AoOx"
      }
    },
    {
      "cell_type": "code",
      "source": [
        "str_list = ['1','2','3','4','5']\n",
        "\n",
        "int_value = [int(i) for i in str_list]\n",
        "print(str_list)\n",
        "print(int_value)"
      ],
      "metadata": {
        "colab": {
          "base_uri": "https://localhost:8080/"
        },
        "id": "IBHEJSRvAPBs",
        "outputId": "93d5831e-4890-480b-b4c0-02d3490eb1ec"
      },
      "execution_count": 20,
      "outputs": [
        {
          "output_type": "stream",
          "name": "stdout",
          "text": [
            "['1', '2', '3', '4', '5']\n",
            "[1, 2, 3, 4, 5]\n"
          ]
        }
      ]
    },
    {
      "cell_type": "markdown",
      "source": [
        "11. Write a program that checks if a number is positive, negative, or zero."
      ],
      "metadata": {
        "id": "AGLi-KbbBIiI"
      }
    },
    {
      "cell_type": "code",
      "source": [
        "num = float(input(\"Enter a number: \"))\n",
        "\n",
        "if num > 0:\n",
        "    print(\"Positive\")\n",
        "elif num < 0:\n",
        "    print(\"Negative\")\n",
        "else:\n",
        "    print(\"Zero\")"
      ],
      "metadata": {
        "colab": {
          "base_uri": "https://localhost:8080/"
        },
        "id": "liJS-tdNA6fs",
        "outputId": "1773b82c-4bcd-44f3-8deb-2684ce6be743"
      },
      "execution_count": 23,
      "outputs": [
        {
          "output_type": "stream",
          "name": "stdout",
          "text": [
            "Enter a number: 2.5\n",
            "Positive\n"
          ]
        }
      ]
    },
    {
      "cell_type": "markdown",
      "source": [
        "12. Write a for loop to print numbers from 1 to 10."
      ],
      "metadata": {
        "id": "5T7vP3XWBlhN"
      }
    },
    {
      "cell_type": "code",
      "source": [
        "for i in range(1,11):\n",
        "  print(i)"
      ],
      "metadata": {
        "colab": {
          "base_uri": "https://localhost:8080/"
        },
        "id": "e0wTjfccBVQm",
        "outputId": "d8c7290c-a4ab-48a7-bd4a-73223b121a1c"
      },
      "execution_count": 24,
      "outputs": [
        {
          "output_type": "stream",
          "name": "stdout",
          "text": [
            "1\n",
            "2\n",
            "3\n",
            "4\n",
            "5\n",
            "6\n",
            "7\n",
            "8\n",
            "9\n",
            "10\n"
          ]
        }
      ]
    },
    {
      "cell_type": "markdown",
      "source": [
        "13. Write a Python program to find the sum of all even numbers between 1 and 50."
      ],
      "metadata": {
        "id": "ytxNYS3ABv4P"
      }
    },
    {
      "cell_type": "code",
      "source": [
        "total_sum =0\n",
        "for i in range(1,51):\n",
        "  if i % 2 == 0:\n",
        "    total_sum = i + total_sum\n",
        "print(total_sum)"
      ],
      "metadata": {
        "colab": {
          "base_uri": "https://localhost:8080/"
        },
        "id": "njzA1dheBpJG",
        "outputId": "106204a8-ec11-4909-ed0d-b65ae3da0e73"
      },
      "execution_count": 25,
      "outputs": [
        {
          "output_type": "stream",
          "name": "stdout",
          "text": [
            "650\n"
          ]
        }
      ]
    },
    {
      "cell_type": "markdown",
      "source": [
        "14. Write a program to reverse a string using a while loop."
      ],
      "metadata": {
        "id": "n7n-WgKaCQJd"
      }
    },
    {
      "cell_type": "code",
      "source": [
        "s = input(\"Enter a string: \")\n",
        "reversed_str = \"\"\n",
        "i = len(s) - 1\n",
        "\n",
        "while i >= 0:\n",
        "    reversed_str += s[i]\n",
        "    i -= 1\n",
        "\n",
        "print(\"Reversed string:\", reversed_str)"
      ],
      "metadata": {
        "colab": {
          "base_uri": "https://localhost:8080/"
        },
        "id": "fTRXXXqZCH1S",
        "outputId": "a61ffec3-8e1b-468c-e43b-c32ec8b72da1"
      },
      "execution_count": 26,
      "outputs": [
        {
          "output_type": "stream",
          "name": "stdout",
          "text": [
            "Enter a string: hello how\n",
            "Reversed string: woh olleh\n"
          ]
        }
      ]
    },
    {
      "cell_type": "markdown",
      "source": [
        "15. Write a Python program to calculate the factorial of a number provided by the user using a while loop."
      ],
      "metadata": {
        "id": "it7OgBxFDLap"
      }
    },
    {
      "cell_type": "code",
      "source": [
        "num = int(input(\"Enter a number: \"))\n",
        "factorial = 1\n",
        "i = 1\n",
        "\n",
        "while i <= num:\n",
        "    factorial =factorial * i\n",
        "    i += 1\n",
        "\n",
        "print(\"Factorial:\", factorial)"
      ],
      "metadata": {
        "colab": {
          "base_uri": "https://localhost:8080/"
        },
        "id": "a8-KW86dCzTG",
        "outputId": "96b9041d-f655-4404-b1e3-7f619f1baac5"
      },
      "execution_count": 30,
      "outputs": [
        {
          "output_type": "stream",
          "name": "stdout",
          "text": [
            "Enter a number: 4\n",
            "Factorial: 24\n"
          ]
        }
      ]
    }
  ]
}